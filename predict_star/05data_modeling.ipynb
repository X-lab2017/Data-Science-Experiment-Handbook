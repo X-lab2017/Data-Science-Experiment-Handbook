{
 "cells": [
  {
   "cell_type": "markdown",
   "metadata": {},
   "source": [
    "# Github Star数量预测"
   ]
  },
  {
   "cell_type": "markdown",
   "metadata": {},
   "source": [
    "## 一、实验背景\n",
    "Github star数量可以反映一个开源项目的影响力和受欢迎程度。通过其他指标对star数量进行拟合，可以预测项目star的值，探索github项目的各个特征对star数量的影响。"
   ]
  },
  {
   "cell_type": "markdown",
   "metadata": {},
   "source": [
    "## 二、实验目标\n",
    "利用线性回归等机器学习方法,建立模型对Github项目star数量进行预测。"
   ]
  },
  {
   "cell_type": "markdown",
   "metadata": {},
   "source": [
    "## 三、实验数据\n",
    "本实验使用的数据集通过pygithub获得，包括了339个pr数量大于0的python仓库。该数据集包含339条数据,每条数据包含仓库名称、star数量、issue关闭数量、issue开启数量等字段。\n",
    "数据集收集代码如下：\n",
    "```python\n",
    "from github import Github\n",
    "import csv\n",
    "\n",
    "access_token = \"YOUR_GIT_TOKEN\" #通过github>Settings>Developer settings>Personal access tokens获取\n",
    "\n",
    "gh = Github(access_token)\n",
    "repositories = gh.search_repositories(query='language:python')\n",
    "star_num = []\n",
    "topics_num = []\n",
    "k = 0\n",
    "data = []\n",
    "for repo in repositories:\n",
    "    if k == 500:\n",
    "        break\n",
    "    if k%10 == 0:\n",
    "        print(k)\n",
    "    repo_data = {\n",
    "        'repo_name': repo.full_name,\n",
    "        'stargazers_count': repo.stargazers_count,\n",
    "        'issue_closed': repo.get_issues(state='closed').totalCount,\n",
    "        'issue_open': repo.get_issues(state='open').totalCount,\n",
    "        'issue_label_num': repo.get_labels().totalCount,\n",
    "        'issue_num': repo.get_issues().totalCount,\n",
    "        'repo_comments_num': repo.get_comments().totalCount,\n",
    "        'forks_num': repo.get_forks().totalCount,\n",
    "        'watchers_num': repo.get_watchers().totalCount,\n",
    "        'pr_num': repo.get_pulls().totalCount,\n",
    "    }\n",
    "    k = k +1\n",
    "    data.append(repo_data)\n",
    "\n",
    "csv_file_path = 'repositories_data1.csv'\n",
    "with open(csv_file_path, mode='w', newline='') as file:\n",
    "    fieldnames = ['repo_name', 'stargazers_count', 'issue_closed', 'issue_open', 'issue_label_num', 'issue_num', 'repo_comments_num', 'forks_num', 'watchers_num',  'pr_num']  \n",
    "\n",
    "    writer = csv.DictWriter(file, fieldnames=fieldnames)\n",
    "\n",
    "    writer.writeheader() \n",
    "\n",
    "    for repo_data in data:\n",
    "        writer.writerow(repo_data)  \n",
    "```"
   ]
  },
  {
   "cell_type": "markdown",
   "metadata": {},
   "source": [
    "## 四、实验步骤"
   ]
  },
  {
   "cell_type": "markdown",
   "metadata": {},
   "source": [
    "1. 导入相关库，加载数据"
   ]
  },
  {
   "cell_type": "code",
   "execution_count": 87,
   "metadata": {},
   "outputs": [
    {
     "data": {
      "text/html": [
       "<div>\n",
       "<style scoped>\n",
       "    .dataframe tbody tr th:only-of-type {\n",
       "        vertical-align: middle;\n",
       "    }\n",
       "\n",
       "    .dataframe tbody tr th {\n",
       "        vertical-align: top;\n",
       "    }\n",
       "\n",
       "    .dataframe thead th {\n",
       "        text-align: right;\n",
       "    }\n",
       "</style>\n",
       "<table border=\"1\" class=\"dataframe\">\n",
       "  <thead>\n",
       "    <tr style=\"text-align: right;\">\n",
       "      <th></th>\n",
       "      <th>repo_name</th>\n",
       "      <th>stargazers_count</th>\n",
       "      <th>issue_closed</th>\n",
       "      <th>issue_open</th>\n",
       "      <th>issue_label_num</th>\n",
       "      <th>issue_num</th>\n",
       "      <th>repo_comments_num</th>\n",
       "      <th>forks_num</th>\n",
       "      <th>watchers_num</th>\n",
       "      <th>pr_num</th>\n",
       "    </tr>\n",
       "  </thead>\n",
       "  <tbody>\n",
       "    <tr>\n",
       "      <th>0</th>\n",
       "      <td>scikit-learn/scikit-learn</td>\n",
       "      <td>56042</td>\n",
       "      <td>24407</td>\n",
       "      <td>2258</td>\n",
       "      <td>101</td>\n",
       "      <td>2258</td>\n",
       "      <td>2571</td>\n",
       "      <td>24016</td>\n",
       "      <td>40000</td>\n",
       "      <td>631</td>\n",
       "    </tr>\n",
       "    <tr>\n",
       "      <th>1</th>\n",
       "      <td>deepfakes/faceswap</td>\n",
       "      <td>47186</td>\n",
       "      <td>1315</td>\n",
       "      <td>24</td>\n",
       "      <td>24</td>\n",
       "      <td>24</td>\n",
       "      <td>57</td>\n",
       "      <td>12559</td>\n",
       "      <td>40000</td>\n",
       "      <td>3</td>\n",
       "    </tr>\n",
       "    <tr>\n",
       "      <th>2</th>\n",
       "      <td>isocpp/CppCoreGuidelines</td>\n",
       "      <td>39790</td>\n",
       "      <td>1878</td>\n",
       "      <td>252</td>\n",
       "      <td>10</td>\n",
       "      <td>252</td>\n",
       "      <td>106</td>\n",
       "      <td>5230</td>\n",
       "      <td>39789</td>\n",
       "      <td>18</td>\n",
       "    </tr>\n",
       "    <tr>\n",
       "      <th>3</th>\n",
       "      <td>faif/python-patterns</td>\n",
       "      <td>38215</td>\n",
       "      <td>393</td>\n",
       "      <td>13</td>\n",
       "      <td>7</td>\n",
       "      <td>13</td>\n",
       "      <td>7</td>\n",
       "      <td>6695</td>\n",
       "      <td>38214</td>\n",
       "      <td>2</td>\n",
       "    </tr>\n",
       "    <tr>\n",
       "      <th>4</th>\n",
       "      <td>donnemartin/data-science-ipython-notebooks</td>\n",
       "      <td>25660</td>\n",
       "      <td>66</td>\n",
       "      <td>33</td>\n",
       "      <td>14</td>\n",
       "      <td>33</td>\n",
       "      <td>3</td>\n",
       "      <td>7214</td>\n",
       "      <td>25658</td>\n",
       "      <td>17</td>\n",
       "    </tr>\n",
       "  </tbody>\n",
       "</table>\n",
       "</div>"
      ],
      "text/plain": [
       "                                    repo_name  stargazers_count  issue_closed  \\\n",
       "0                   scikit-learn/scikit-learn             56042         24407   \n",
       "1                          deepfakes/faceswap             47186          1315   \n",
       "2                    isocpp/CppCoreGuidelines             39790          1878   \n",
       "3                        faif/python-patterns             38215           393   \n",
       "4  donnemartin/data-science-ipython-notebooks             25660            66   \n",
       "\n",
       "   issue_open  issue_label_num  issue_num  repo_comments_num  forks_num  \\\n",
       "0        2258              101       2258               2571      24016   \n",
       "1          24               24         24                 57      12559   \n",
       "2         252               10        252                106       5230   \n",
       "3          13                7         13                  7       6695   \n",
       "4          33               14         33                  3       7214   \n",
       "\n",
       "   watchers_num  pr_num  \n",
       "0         40000     631  \n",
       "1         40000       3  \n",
       "2         39789      18  \n",
       "3         38214       2  \n",
       "4         25658      17  "
      ]
     },
     "execution_count": 87,
     "metadata": {},
     "output_type": "execute_result"
    }
   ],
   "source": [
    "import pandas as pd\n",
    "from sklearn.model_selection import train_test_split\n",
    "from sklearn.linear_model import LinearRegression\n",
    "from sklearn.metrics import mean_squared_error\n",
    "csv_file_path = 'repositories_data1.csv'\n",
    "df = pd.read_csv(csv_file_path)\n",
    "df.head()"
   ]
  },
  {
   "cell_type": "markdown",
   "metadata": {},
   "source": [
    "2. 数据概览"
   ]
  },
  {
   "cell_type": "code",
   "execution_count": 88,
   "metadata": {},
   "outputs": [
    {
     "data": {
      "text/plain": [
       "(339, 10)"
      ]
     },
     "execution_count": 88,
     "metadata": {},
     "output_type": "execute_result"
    }
   ],
   "source": [
    "df.shape"
   ]
  },
  {
   "cell_type": "code",
   "execution_count": 89,
   "metadata": {},
   "outputs": [
    {
     "name": "stdout",
     "output_type": "stream",
     "text": [
      "<class 'pandas.core.frame.DataFrame'>\n",
      "RangeIndex: 339 entries, 0 to 338\n",
      "Data columns (total 10 columns):\n",
      " #   Column             Non-Null Count  Dtype \n",
      "---  ------             --------------  ----- \n",
      " 0   repo_name          339 non-null    object\n",
      " 1   stargazers_count   339 non-null    int64 \n",
      " 2   issue_closed       339 non-null    int64 \n",
      " 3   issue_open         339 non-null    int64 \n",
      " 4   issue_label_num    339 non-null    int64 \n",
      " 5   issue_num          339 non-null    int64 \n",
      " 6   repo_comments_num  339 non-null    int64 \n",
      " 7   forks_num          339 non-null    int64 \n",
      " 8   watchers_num       339 non-null    int64 \n",
      " 9   pr_num             339 non-null    int64 \n",
      "dtypes: int64(9), object(1)\n",
      "memory usage: 26.6+ KB\n"
     ]
    }
   ],
   "source": [
    "df.info()"
   ]
  },
  {
   "cell_type": "code",
   "execution_count": 90,
   "metadata": {},
   "outputs": [
    {
     "data": {
      "text/html": [
       "<div>\n",
       "<style scoped>\n",
       "    .dataframe tbody tr th:only-of-type {\n",
       "        vertical-align: middle;\n",
       "    }\n",
       "\n",
       "    .dataframe tbody tr th {\n",
       "        vertical-align: top;\n",
       "    }\n",
       "\n",
       "    .dataframe thead th {\n",
       "        text-align: right;\n",
       "    }\n",
       "</style>\n",
       "<table border=\"1\" class=\"dataframe\">\n",
       "  <thead>\n",
       "    <tr style=\"text-align: right;\">\n",
       "      <th></th>\n",
       "      <th>stargazers_count</th>\n",
       "      <th>issue_closed</th>\n",
       "      <th>issue_open</th>\n",
       "      <th>issue_label_num</th>\n",
       "      <th>issue_num</th>\n",
       "      <th>repo_comments_num</th>\n",
       "      <th>forks_num</th>\n",
       "      <th>watchers_num</th>\n",
       "      <th>pr_num</th>\n",
       "    </tr>\n",
       "  </thead>\n",
       "  <tbody>\n",
       "    <tr>\n",
       "      <th>count</th>\n",
       "      <td>339.000000</td>\n",
       "      <td>339.000000</td>\n",
       "      <td>339.000000</td>\n",
       "      <td>339.00000</td>\n",
       "      <td>339.000000</td>\n",
       "      <td>339.000000</td>\n",
       "      <td>339.000000</td>\n",
       "      <td>339.000000</td>\n",
       "      <td>339.000000</td>\n",
       "    </tr>\n",
       "    <tr>\n",
       "      <th>mean</th>\n",
       "      <td>3589.333333</td>\n",
       "      <td>655.935103</td>\n",
       "      <td>95.292035</td>\n",
       "      <td>12.79056</td>\n",
       "      <td>95.292035</td>\n",
       "      <td>21.958702</td>\n",
       "      <td>699.651917</td>\n",
       "      <td>3520.622419</td>\n",
       "      <td>14.678466</td>\n",
       "    </tr>\n",
       "    <tr>\n",
       "      <th>std</th>\n",
       "      <td>6139.917384</td>\n",
       "      <td>1782.158978</td>\n",
       "      <td>215.626266</td>\n",
       "      <td>16.33254</td>\n",
       "      <td>215.626266</td>\n",
       "      <td>144.104164</td>\n",
       "      <td>1759.712464</td>\n",
       "      <td>5636.799529</td>\n",
       "      <td>40.847818</td>\n",
       "    </tr>\n",
       "    <tr>\n",
       "      <th>min</th>\n",
       "      <td>144.000000</td>\n",
       "      <td>0.000000</td>\n",
       "      <td>1.000000</td>\n",
       "      <td>0.00000</td>\n",
       "      <td>1.000000</td>\n",
       "      <td>0.000000</td>\n",
       "      <td>3.000000</td>\n",
       "      <td>144.000000</td>\n",
       "      <td>1.000000</td>\n",
       "    </tr>\n",
       "    <tr>\n",
       "      <th>25%</th>\n",
       "      <td>344.000000</td>\n",
       "      <td>25.500000</td>\n",
       "      <td>10.000000</td>\n",
       "      <td>7.00000</td>\n",
       "      <td>10.000000</td>\n",
       "      <td>0.000000</td>\n",
       "      <td>85.500000</td>\n",
       "      <td>344.000000</td>\n",
       "      <td>2.000000</td>\n",
       "    </tr>\n",
       "    <tr>\n",
       "      <th>50%</th>\n",
       "      <td>1814.000000</td>\n",
       "      <td>108.000000</td>\n",
       "      <td>30.000000</td>\n",
       "      <td>9.00000</td>\n",
       "      <td>30.000000</td>\n",
       "      <td>2.000000</td>\n",
       "      <td>251.000000</td>\n",
       "      <td>1814.000000</td>\n",
       "      <td>4.000000</td>\n",
       "    </tr>\n",
       "    <tr>\n",
       "      <th>75%</th>\n",
       "      <td>3502.500000</td>\n",
       "      <td>470.500000</td>\n",
       "      <td>95.000000</td>\n",
       "      <td>13.00000</td>\n",
       "      <td>95.000000</td>\n",
       "      <td>10.000000</td>\n",
       "      <td>661.500000</td>\n",
       "      <td>3502.500000</td>\n",
       "      <td>13.000000</td>\n",
       "    </tr>\n",
       "    <tr>\n",
       "      <th>max</th>\n",
       "      <td>56042.000000</td>\n",
       "      <td>24407.000000</td>\n",
       "      <td>2258.000000</td>\n",
       "      <td>224.00000</td>\n",
       "      <td>2258.000000</td>\n",
       "      <td>2571.000000</td>\n",
       "      <td>24016.000000</td>\n",
       "      <td>40000.000000</td>\n",
       "      <td>631.000000</td>\n",
       "    </tr>\n",
       "  </tbody>\n",
       "</table>\n",
       "</div>"
      ],
      "text/plain": [
       "       stargazers_count  issue_closed   issue_open  issue_label_num  \\\n",
       "count        339.000000    339.000000   339.000000        339.00000   \n",
       "mean        3589.333333    655.935103    95.292035         12.79056   \n",
       "std         6139.917384   1782.158978   215.626266         16.33254   \n",
       "min          144.000000      0.000000     1.000000          0.00000   \n",
       "25%          344.000000     25.500000    10.000000          7.00000   \n",
       "50%         1814.000000    108.000000    30.000000          9.00000   \n",
       "75%         3502.500000    470.500000    95.000000         13.00000   \n",
       "max        56042.000000  24407.000000  2258.000000        224.00000   \n",
       "\n",
       "         issue_num  repo_comments_num     forks_num  watchers_num      pr_num  \n",
       "count   339.000000         339.000000    339.000000    339.000000  339.000000  \n",
       "mean     95.292035          21.958702    699.651917   3520.622419   14.678466  \n",
       "std     215.626266         144.104164   1759.712464   5636.799529   40.847818  \n",
       "min       1.000000           0.000000      3.000000    144.000000    1.000000  \n",
       "25%      10.000000           0.000000     85.500000    344.000000    2.000000  \n",
       "50%      30.000000           2.000000    251.000000   1814.000000    4.000000  \n",
       "75%      95.000000          10.000000    661.500000   3502.500000   13.000000  \n",
       "max    2258.000000        2571.000000  24016.000000  40000.000000  631.000000  "
      ]
     },
     "execution_count": 90,
     "metadata": {},
     "output_type": "execute_result"
    }
   ],
   "source": [
    "df.describe()"
   ]
  },
  {
   "cell_type": "markdown",
   "metadata": {},
   "source": [
    "3. 特征工程"
   ]
  },
  {
   "cell_type": "code",
   "execution_count": 91,
   "metadata": {},
   "outputs": [
    {
     "data": {
      "text/html": [
       "<div>\n",
       "<style scoped>\n",
       "    .dataframe tbody tr th:only-of-type {\n",
       "        vertical-align: middle;\n",
       "    }\n",
       "\n",
       "    .dataframe tbody tr th {\n",
       "        vertical-align: top;\n",
       "    }\n",
       "\n",
       "    .dataframe thead th {\n",
       "        text-align: right;\n",
       "    }\n",
       "</style>\n",
       "<table border=\"1\" class=\"dataframe\">\n",
       "  <thead>\n",
       "    <tr style=\"text-align: right;\">\n",
       "      <th></th>\n",
       "      <th>stargazers_count</th>\n",
       "      <th>issue_closed</th>\n",
       "      <th>issue_open</th>\n",
       "      <th>issue_label_num</th>\n",
       "      <th>issue_num</th>\n",
       "      <th>repo_comments_num</th>\n",
       "      <th>forks_num</th>\n",
       "      <th>watchers_num</th>\n",
       "      <th>pr_num</th>\n",
       "    </tr>\n",
       "  </thead>\n",
       "  <tbody>\n",
       "    <tr>\n",
       "      <th>stargazers_count</th>\n",
       "      <td>1.000000</td>\n",
       "      <td>0.569157</td>\n",
       "      <td>0.548543</td>\n",
       "      <td>0.338514</td>\n",
       "      <td>0.548543</td>\n",
       "      <td>0.525924</td>\n",
       "      <td>0.869855</td>\n",
       "      <td>0.990519</td>\n",
       "      <td>0.585040</td>\n",
       "    </tr>\n",
       "    <tr>\n",
       "      <th>issue_closed</th>\n",
       "      <td>0.569157</td>\n",
       "      <td>1.000000</td>\n",
       "      <td>0.760189</td>\n",
       "      <td>0.662642</td>\n",
       "      <td>0.760189</td>\n",
       "      <td>0.827581</td>\n",
       "      <td>0.665873</td>\n",
       "      <td>0.506336</td>\n",
       "      <td>0.866478</td>\n",
       "    </tr>\n",
       "    <tr>\n",
       "      <th>issue_open</th>\n",
       "      <td>0.548543</td>\n",
       "      <td>0.760189</td>\n",
       "      <td>1.000000</td>\n",
       "      <td>0.502159</td>\n",
       "      <td>1.000000</td>\n",
       "      <td>0.618878</td>\n",
       "      <td>0.637542</td>\n",
       "      <td>0.514284</td>\n",
       "      <td>0.784671</td>\n",
       "    </tr>\n",
       "    <tr>\n",
       "      <th>issue_label_num</th>\n",
       "      <td>0.338514</td>\n",
       "      <td>0.662642</td>\n",
       "      <td>0.502159</td>\n",
       "      <td>1.000000</td>\n",
       "      <td>0.502159</td>\n",
       "      <td>0.390875</td>\n",
       "      <td>0.354360</td>\n",
       "      <td>0.320654</td>\n",
       "      <td>0.493876</td>\n",
       "    </tr>\n",
       "    <tr>\n",
       "      <th>issue_num</th>\n",
       "      <td>0.548543</td>\n",
       "      <td>0.760189</td>\n",
       "      <td>1.000000</td>\n",
       "      <td>0.502159</td>\n",
       "      <td>1.000000</td>\n",
       "      <td>0.618878</td>\n",
       "      <td>0.637542</td>\n",
       "      <td>0.514284</td>\n",
       "      <td>0.784671</td>\n",
       "    </tr>\n",
       "    <tr>\n",
       "      <th>repo_comments_num</th>\n",
       "      <td>0.525924</td>\n",
       "      <td>0.827581</td>\n",
       "      <td>0.618878</td>\n",
       "      <td>0.390875</td>\n",
       "      <td>0.618878</td>\n",
       "      <td>1.000000</td>\n",
       "      <td>0.750555</td>\n",
       "      <td>0.423008</td>\n",
       "      <td>0.853819</td>\n",
       "    </tr>\n",
       "    <tr>\n",
       "      <th>forks_num</th>\n",
       "      <td>0.869855</td>\n",
       "      <td>0.665873</td>\n",
       "      <td>0.637542</td>\n",
       "      <td>0.354360</td>\n",
       "      <td>0.637542</td>\n",
       "      <td>0.750555</td>\n",
       "      <td>1.000000</td>\n",
       "      <td>0.810495</td>\n",
       "      <td>0.744499</td>\n",
       "    </tr>\n",
       "    <tr>\n",
       "      <th>watchers_num</th>\n",
       "      <td>0.990519</td>\n",
       "      <td>0.506336</td>\n",
       "      <td>0.514284</td>\n",
       "      <td>0.320654</td>\n",
       "      <td>0.514284</td>\n",
       "      <td>0.423008</td>\n",
       "      <td>0.810495</td>\n",
       "      <td>1.000000</td>\n",
       "      <td>0.511288</td>\n",
       "    </tr>\n",
       "    <tr>\n",
       "      <th>pr_num</th>\n",
       "      <td>0.585040</td>\n",
       "      <td>0.866478</td>\n",
       "      <td>0.784671</td>\n",
       "      <td>0.493876</td>\n",
       "      <td>0.784671</td>\n",
       "      <td>0.853819</td>\n",
       "      <td>0.744499</td>\n",
       "      <td>0.511288</td>\n",
       "      <td>1.000000</td>\n",
       "    </tr>\n",
       "  </tbody>\n",
       "</table>\n",
       "</div>"
      ],
      "text/plain": [
       "                   stargazers_count  issue_closed  issue_open  \\\n",
       "stargazers_count           1.000000      0.569157    0.548543   \n",
       "issue_closed               0.569157      1.000000    0.760189   \n",
       "issue_open                 0.548543      0.760189    1.000000   \n",
       "issue_label_num            0.338514      0.662642    0.502159   \n",
       "issue_num                  0.548543      0.760189    1.000000   \n",
       "repo_comments_num          0.525924      0.827581    0.618878   \n",
       "forks_num                  0.869855      0.665873    0.637542   \n",
       "watchers_num               0.990519      0.506336    0.514284   \n",
       "pr_num                     0.585040      0.866478    0.784671   \n",
       "\n",
       "                   issue_label_num  issue_num  repo_comments_num  forks_num  \\\n",
       "stargazers_count          0.338514   0.548543           0.525924   0.869855   \n",
       "issue_closed              0.662642   0.760189           0.827581   0.665873   \n",
       "issue_open                0.502159   1.000000           0.618878   0.637542   \n",
       "issue_label_num           1.000000   0.502159           0.390875   0.354360   \n",
       "issue_num                 0.502159   1.000000           0.618878   0.637542   \n",
       "repo_comments_num         0.390875   0.618878           1.000000   0.750555   \n",
       "forks_num                 0.354360   0.637542           0.750555   1.000000   \n",
       "watchers_num              0.320654   0.514284           0.423008   0.810495   \n",
       "pr_num                    0.493876   0.784671           0.853819   0.744499   \n",
       "\n",
       "                   watchers_num    pr_num  \n",
       "stargazers_count       0.990519  0.585040  \n",
       "issue_closed           0.506336  0.866478  \n",
       "issue_open             0.514284  0.784671  \n",
       "issue_label_num        0.320654  0.493876  \n",
       "issue_num              0.514284  0.784671  \n",
       "repo_comments_num      0.423008  0.853819  \n",
       "forks_num              0.810495  0.744499  \n",
       "watchers_num           1.000000  0.511288  \n",
       "pr_num                 0.511288  1.000000  "
      ]
     },
     "execution_count": 91,
     "metadata": {},
     "output_type": "execute_result"
    }
   ],
   "source": [
    "df = df.drop(columns='repo_name')\n",
    "df.corr()"
   ]
  },
  {
   "cell_type": "code",
   "execution_count": 92,
   "metadata": {},
   "outputs": [],
   "source": [
    "import matplotlib.pyplot as plt\n",
    "import seaborn as sns"
   ]
  },
  {
   "cell_type": "markdown",
   "metadata": {},
   "source": [
    "线性回归假设特征之间是相互独立的。如果特征之间存在相关性或依赖关系，可能会导致模型不稳定，难以分离特征对因变量的影响。因此，在应用线性回归模型前，通常要确保特征之间尽可能独立。使用seaborn的heatmap功能绘制特征相关性热力图,根据热力图可视化分析剔除与其他特征相关系数较高的特征:"
   ]
  },
  {
   "cell_type": "code",
   "execution_count": 93,
   "metadata": {},
   "outputs": [
    {
     "data": {
      "image/png": "[encoded data removed]",
      "text/plain": [
       "<Figure size 640x480 with 2 Axes>"
      ]
     },
     "metadata": {},
     "output_type": "display_data"
    }
   ],
   "source": [
    "sns.heatmap(df.corr(), annot = True);"
   ]
  },
  {
   "cell_type": "markdown",
   "metadata": {},
   "source": [
    "4. 划分数据集\n",
    "\n",
    "使用sklearn的train_test_split将数据划分为训练集和测试集:"
   ]
  },
  {
   "cell_type": "code",
   "execution_count": null,
   "metadata": {},
   "outputs": [],
   "source": [
    "# X = df[['issue_closed', 'issue_open', 'issue_label_num', 'issue_num', 'repo_comments_num', 'forks_num', 'watchers_num',  'pr_num']]\n",
    "selected_columns = ['issue_open', 'issue_label_num', 'issue_num', 'repo_comments_num', 'forks_num', 'watchers_num']\n",
    "X = df[selected_columns]\n",
    "y = df['stargazers_count']  \n",
    "\n",
    "X_train, X_test, y_train, y_test = train_test_split(X, y, test_size=0.2, random_state=42)"
   ]
  },
  {
   "cell_type": "markdown",
   "metadata": {},
   "source": [
    "5. 模型训练\n",
    "\n",
    "使用线性回归模型sklearn.linear_model.LinearRegression进行模型训练:"
   ]
  },
  {
   "cell_type": "code",
   "execution_count": 94,
   "metadata": {},
   "outputs": [
    {
     "data": {
      "text/plain": [
       "array([9.73539885e+02, 2.79601983e+02, 2.34247761e+02, 8.53238361e+03,\n",
       "       5.77657745e+02, 1.38682462e+02, 1.72811965e+02, 3.65480061e+01,\n",
       "       9.48053609e+01, 9.37517455e+03, 5.73100471e+02, 2.89705857e+02,\n",
       "       1.76837718e+03, 1.74510480e+03, 2.40021828e+02, 1.62722069e+03,\n",
       "       5.66850764e+02, 1.51266291e+03, 1.89964038e+03, 1.55563068e+04,\n",
       "       1.31867131e+02, 5.40287568e+03, 1.97245664e+03, 6.30385574e+02,\n",
       "       1.81333074e+02, 3.24461066e+03, 2.58426993e+02, 2.64341575e+03,\n",
       "       1.65797759e+02, 1.59855571e+03, 1.42767093e+02, 9.56142638e+03,\n",
       "       4.57076434e+02, 1.65692927e+03, 4.59874871e+03, 2.74884957e+04,\n",
       "       8.18567909e+02, 1.38948524e+02, 2.14723864e+02, 4.62812083e+03,\n",
       "       4.01105983e+03, 3.93861029e+04, 2.09597617e+03, 3.30221521e+02,\n",
       "       1.03173473e+04, 1.52775320e+03, 8.52703602e+02, 9.74617840e+02,\n",
       "       4.69394857e+03, 1.23081352e+04, 1.54020222e+03, 2.20128013e+02,\n",
       "       2.99968018e+03, 3.82055545e+03, 5.46537991e+03, 2.66493543e+03,\n",
       "       5.36601432e+03, 9.74328015e+01, 1.55948408e+02, 1.04642829e+04,\n",
       "       1.72147857e+03, 1.63874153e+03, 1.51031467e+03, 2.02981438e+02,\n",
       "       2.72473956e+03, 4.87583323e+03, 6.02540865e+03, 1.06485986e+04])"
      ]
     },
     "execution_count": 94,
     "metadata": {},
     "output_type": "execute_result"
    }
   ],
   "source": [
    "model = LinearRegression()\n",
    "model.fit(X_train, y_train)\n",
    "\n",
    "y_pred = model.predict(X_test)\n",
    "y_pred"
   ]
  },
  {
   "cell_type": "markdown",
   "metadata": {},
   "source": [
    "## 五、实验结果"
   ]
  },
  {
   "cell_type": "markdown",
   "metadata": {},
   "source": [
    "模型评估："
   ]
  },
  {
   "cell_type": "code",
   "execution_count": 95,
   "metadata": {},
   "outputs": [
    {
     "name": "stdout",
     "output_type": "stream",
     "text": [
      "Model testing performance:\n",
      "--------------------------\n",
      "R2_score \t: 0.9879535200079116\n",
      "MAE \t\t: 267.71090515371986\n",
      "MSE \t\t: 417637.5323956408\n",
      "RMSE \t\t: 646.2488161657558\n"
     ]
    }
   ],
   "source": [
    "from sklearn.metrics import mean_absolute_error, mean_squared_error, r2_score\n",
    "import numpy as np\n",
    "R2_score = r2_score(y_test, y_pred)\n",
    "mae = mean_absolute_error(y_test, y_pred)\n",
    "rmse = np.sqrt(mean_squared_error(y_test, y_pred))\n",
    "def eval_metric(actual, pred):\n",
    "    mae = mean_absolute_error(actual, pred)\n",
    "    mse = mean_squared_error(actual, pred)\n",
    "    rmse = np.sqrt(mean_squared_error(actual, pred))\n",
    "    R2_score = r2_score(actual, pred)\n",
    "    print(\"Model testing performance:\")\n",
    "    print(\"--------------------------\")\n",
    "    print(f\"R2_score \\t: {R2_score}\")\n",
    "    print(f\"MAE \\t\\t: {mae}\")\n",
    "    print(f\"MSE \\t\\t: {mse}\")\n",
    "    print(f\"RMSE \\t\\t: {rmse}\")\n",
    "eval_metric(y_test, y_pred)    "
   ]
  },
  {
   "cell_type": "markdown",
   "metadata": {},
   "source": [
    "测试集上模型表现良好, R2分数接近1。"
   ]
  },
  {
   "cell_type": "code",
   "execution_count": 96,
   "metadata": {},
   "outputs": [
    {
     "name": "stdout",
     "output_type": "stream",
     "text": [
      "Model testing performance:\n",
      "--------------------------\n",
      "R2_score \t: 0.9975088913931351\n",
      "MAE \t\t: 159.5025369149375\n",
      "MSE \t\t: 95457.08492605283\n",
      "RMSE \t\t: 308.9613000459003\n"
     ]
    }
   ],
   "source": [
    "y_train_pred = model.predict(X_train)\n",
    "eval_metric(y_train, y_train_pred)"
   ]
  },
  {
   "cell_type": "markdown",
   "metadata": {},
   "source": [
    "特征权重："
   ]
  },
  {
   "cell_type": "code",
   "execution_count": 97,
   "metadata": {},
   "outputs": [
    {
     "name": "stdout",
     "output_type": "stream",
     "text": [
      "系数（权重）: {'issue_open': -0.03319113235364407, 'issue_label_num': -5.339652309227504, 'issue_num': -0.03319113235365074, 'repo_comments_num': 2.1079849050911585, 'forks_num': 0.5697616376700052, 'watchers_num': 0.9323843588470687}\n"
     ]
    }
   ],
   "source": [
    "print(\"系数（权重）:\", dict(zip(selected_columns,model.coef_)))"
   ]
  }
 ],
 "metadata": {
  "kernelspec": {
   "display_name": "base",
   "language": "python",
   "name": "python3"
  },
  "language_info": {
   "codemirror_mode": {
    "name": "ipython",
    "version": 3
   },
   "file_extension": ".py",
   "mimetype": "text/x-python",
   "name": "python",
   "nbconvert_exporter": "python",
   "pygments_lexer": "ipython3",
   "version": "3.11.5"
  }
 },
 "nbformat": 4,
 "nbformat_minor": 2
}
